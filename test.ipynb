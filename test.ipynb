{
 "cells": [
  {
   "cell_type": "code",
   "execution_count": 9,
   "metadata": {},
   "outputs": [
    {
     "name": "stdout",
     "output_type": "stream",
     "text": [
      "'[{\"market\":\"KRW-BTC\",\"supported_levels\":[0,10000,100000,1000000,10000000]},{\"market\":\"KRW-ETH\",\"supported_levels\":[0,10000,100000,1000000]},{\"market\":\"KRW-BTT\",\"supported_levels\":[0,0.00001,0.0001,0.001]},{\"market\":\"BTC-XRP\",\"supported_levels\":[0]}]'\n"
     ]
    }
   ],
   "source": [
    "import requests\n",
    "from pprint import pprint\n",
    "\n",
    "url = \"https://api.upbit.com/v1/orderbook/supported_levels?markets=KRW-BTC&markets=KRW-ETH&markets=KRW-BTT&markets=BTC-XRP\"\n",
    "\n",
    "headers = {\"accept\": \"application/json\"}\n",
    "\n",
    "response = requests.get(url, headers=headers)\n",
    "\n",
    "pprint(response.text)"
   ]
  },
  {
   "cell_type": "code",
   "execution_count": 28,
   "metadata": {},
   "outputs": [
    {
     "name": "stdout",
     "output_type": "stream",
     "text": [
      "[{\"market\":\"KRW-BTC\",\"timestamp\":1717216797572,\"total_ask_size\":10.32213448,\"total_bid_size\":4.88389053,\"orderbook_units\":[{\"ask_price\":94650000,\"bid_price\":94640000,\"ask_size\":2.67005022,\"bid_size\":0.75202597},{\"ask_price\":94660000,\"bid_price\":94630000,\"ask_size\":0.27351465,\"bid_size\":0.00238460},{\"ask_price\":94670000,\"bid_price\":94620000,\"ask_size\":0.27868730,\"bid_size\":0.54609727},{\"ask_price\":94680000,\"bid_price\":94610000,\"ask_size\":0.10462712,\"bid_size\":0.05132191},{\"ask_price\":94690000,\"bid_price\":94600000,\"ask_size\":0.82759726,\"bid_size\":0.52743037},{\"ask_price\":94700000,\"bid_price\":94590000,\"ask_size\":1.60110676,\"bid_size\":0.33993560},{\"ask_price\":94710000,\"bid_price\":94580000,\"ask_size\":0.20451499,\"bid_size\":0.01426088},{\"ask_price\":94720000,\"bid_price\":94570000,\"ask_size\":0.12691549,\"bid_size\":0.34959706},{\"ask_price\":94730000,\"bid_price\":94560000,\"ask_size\":0.09667747,\"bid_size\":0.13362698},{\"ask_price\":94740000,\"bid_price\":94550000,\"ask_size\":0.01416288,\"bid_size\":0.19807918},{\"ask_price\":94750000,\"bid_price\":94540000,\"ask_size\":0.92838678,\"bid_size\":0.02102578},{\"ask_price\":94760000,\"bid_price\":94530000,\"ask_size\":1.27307199,\"bid_size\":0.07069781},{\"ask_price\":94770000,\"bid_price\":94520000,\"ask_size\":0.90046563,\"bid_size\":0.00385342},{\"ask_price\":94780000,\"bid_price\":94510000,\"ask_size\":0.08430682,\"bid_size\":1.11123124},{\"ask_price\":94790000,\"bid_price\":94500000,\"ask_size\":0.93804912,\"bid_size\":0.76232246}],\"level\":10000}]\n"
     ]
    }
   ],
   "source": [
    "import requests\n",
    "\n",
    "url = \"https://api.upbit.com/v1/orderbook?markets=KRW-BTC&level=10000\"\n",
    "\n",
    "headers = {\"accept\": \"application/json\"}\n",
    "\n",
    "response = requests.get(url, headers=headers)\n",
    "\n",
    "print(response.text)"
   ]
  },
  {
   "cell_type": "code",
   "execution_count": 57,
   "metadata": {},
   "outputs": [
    {
     "name": "stdout",
     "output_type": "stream",
     "text": [
      "[{\"market\":\"KRW-BTC\",\"trade_date\":\"20240601\",\"trade_time\":\"044140\",\"trade_date_kst\":\"20240601\",\"trade_time_kst\":\"134140\",\"trade_timestamp\":1717216900521,\"opening_price\":94504000.00000000,\"high_price\":94700000.00000000,\"low_price\":94361000.00000000,\"trade_price\":94649000.00000000,\"prev_closing_price\":94505000.00000000,\"change\":\"RISE\",\"change_price\":144000.00000000,\"change_rate\":0.0015237289,\"signed_change_price\":144000.00000000,\"signed_change_rate\":0.0015237289,\"trade_volume\":0.01056535,\"acc_trade_price\":18037847726.4514400000000000,\"acc_trade_price_24h\":190984703804.15290000,\"acc_trade_volume\":190.68900130,\"acc_trade_volume_24h\":2014.63841568,\"highest_52_week_price\":105000000.00000000,\"highest_52_week_date\":\"2024-03-14\",\"lowest_52_week_price\":32510000.00000000,\"lowest_52_week_date\":\"2023-06-15\",\"timestamp\":1717216900542}]\n"
     ]
    }
   ],
   "source": [
    "import requests\n",
    "\n",
    "url = \"https://api.upbit.com/v1/ticker?markets=KRW-BTC\"\n",
    "\n",
    "headers = {\"accept\": \"application/json\"}\n",
    "\n",
    "response = requests.get(url, headers=headers)\n",
    "\n",
    "print(response.text)"
   ]
  },
  {
   "cell_type": "code",
   "execution_count": 1,
   "metadata": {},
   "outputs": [],
   "source": [
    "import logging\n",
    "log = logging.getLogger(__name__)"
   ]
  },
  {
   "cell_type": "code",
   "execution_count": 2,
   "metadata": {},
   "outputs": [],
   "source": [
    "log.info(\"asdf\")"
   ]
  },
  {
   "cell_type": "code",
   "execution_count": null,
   "metadata": {},
   "outputs": [],
   "source": []
  }
 ],
 "metadata": {
  "kernelspec": {
   "display_name": "coin-fastapi",
   "language": "python",
   "name": "python3"
  },
  "language_info": {
   "codemirror_mode": {
    "name": "ipython",
    "version": 3
   },
   "file_extension": ".py",
   "mimetype": "text/x-python",
   "name": "python",
   "nbconvert_exporter": "python",
   "pygments_lexer": "ipython3",
   "version": "3.12.3"
  }
 },
 "nbformat": 4,
 "nbformat_minor": 2
}
